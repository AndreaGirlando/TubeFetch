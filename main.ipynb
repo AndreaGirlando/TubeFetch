{
 "cells": [
  {
   "cell_type": "code",
   "execution_count": 2,
   "metadata": {},
   "outputs": [],
   "source": [
    "from externalApi.spotify import getTracksFromPlaylistUrl\n",
    "spotifyPlaylist = \"https://open.spotify.com/intl-it/album/5xpkqSPQbp4qTmoaKUHyXp?si=Tk74DxVPQK6GYMaVADqgww\""
   ]
  },
  {
   "cell_type": "code",
   "execution_count": 5,
   "metadata": {},
   "outputs": [],
   "source": [
    "tracks = getTracksFromPlaylistUrl(spotifyPlaylist)"
   ]
  },
  {
   "cell_type": "code",
   "execution_count": 10,
   "metadata": {},
   "outputs": [
    {
     "name": "stdout",
     "output_type": "stream",
     "text": [
      "{'Id': '0gbl0gHhh40FudCySvWJNR', 'Artista': 'Il Tre', 'Canzone': 'Fuori è notte', 'NumeroTraccia': 1, 'YoutubeLink': '/watch?v=PDIhubt-uTE&pp=ygUbRnVvcmkgw6ggbm90dGUgSWwgVHJlbHlyaWNz'}\n",
      "\n",
      "{'Id': '7B2fknZPG00tGa669tFTwY', 'Artista': 'Il Tre', 'Canzone': 'È strano', 'NumeroTraccia': 2, 'YoutubeLink': '/watch?v=67Qdv_K5kBU&pp=ygUWw4ggc3RyYW5vIElsIFRyZWx5cmljcw%3D%3D'}\n",
      "\n",
      "{'Id': '5ngRlJn7GrRKRRAos6B52g', 'Artista': 'Il Tre', 'Canzone': 'Fari', 'NumeroTraccia': 3, 'YoutubeLink': '/watch?v=3wXMH21u7z4&pp=ygURRmFyaSBJbCBUcmVseXJpY3M%3D'}\n",
      "\n",
      "{'Id': '7FVcxWVUtjihWtQBW0W5Pm', 'Artista': 'Il Tre', 'Canzone': 'Warzone', 'NumeroTraccia': 4, 'YoutubeLink': '/watch?v=PvQnXPEfSEM&pp=ygUUV2Fyem9uZSBJbCBUcmVseXJpY3M%3D'}\n",
      "\n",
      "{'Id': '6MgjsSUoBTgFEd2gY8WVbD', 'Artista': 'Il Tre', 'Canzone': 'Ora o mai più', 'NumeroTraccia': 5, 'YoutubeLink': '/watch?v=n8nPGUU3Okk&pp=ygUbT3JhIG8gbWFpIHBpw7kgSWwgVHJlbHlyaWNz'}\n",
      "\n",
      "{'Id': '5V4abrFwZtG78FcmFRfKel', 'Artista': 'Il Tre', 'Canzone': 'Temporale', 'NumeroTraccia': 6, 'YoutubeLink': '/watch?v=tI2TS0M0etw&pp=ygUWVGVtcG9yYWxlIElsIFRyZWx5cmljcw%3D%3D'}\n",
      "\n",
      "{'Id': '2UC2FEriniOzxqj3whINl0', 'Artista': 'Il Tre', 'Canzone': 'Per chi non ha un posto in questo mondo', 'NumeroTraccia': 1, 'YoutubeLink': '/watch?v=1iQ2K8bvbqs&pp=ygU0UGVyIGNoaSBub24gaGEgdW4gcG9zdG8gaW4gcXVlc3RvIG1vbmRvIElsIFRyZWx5cmljcw%3D%3D'}\n",
      "\n",
      "{'Id': '0FWctkKwkdddlNPzDnZIN1', 'Artista': 'Il Tre', 'Canzone': 'Il tuo nome', 'NumeroTraccia': 2, 'YoutubeLink': '/watch?v=kF_VU0pBSt8&pp=ygUYSWwgdHVvIG5vbWUgSWwgVHJlbHlyaWNz'}\n",
      "\n",
      "{'Id': '1xxUQvB5dWa5mkU7DMvtHx', 'Artista': 'Il Tre', 'Canzone': 'Apollo 13 (feat. Vegas Jones)', 'NumeroTraccia': 3, 'YoutubeLink': '/watch?v=brikAKzIXKY&pp=ygUqQXBvbGxvIDEzIChmZWF0LiBWZWdhcyBKb25lcykgSWwgVHJlbHlyaWNz'}\n",
      "\n",
      "{'Id': '4FWzOHwYvCUhb9s8ynXu8w', 'Artista': 'Il Tre', 'Canzone': 'Tegole', 'NumeroTraccia': 4, 'YoutubeLink': '/watch?v=7yK71qZcfck&pp=ygUTVGVnb2xlIElsIFRyZWx5cmljcw%3D%3D'}\n",
      "\n",
      "{'Id': '3Ma4mU1EskixbpuwTKRXvU', 'Artista': 'Il Tre', 'Canzone': 'Io non sono come te', 'NumeroTraccia': 5, 'YoutubeLink': '/watch?v=FusuMG0QS3I&pp=ygUgSW8gbm9uIHNvbm8gY29tZSB0ZSBJbCBUcmVseXJpY3M%3D'}\n",
      "\n",
      "{'Id': '2DZnYpMFq4bpDJwN8GEsvj', 'Artista': 'Il Tre', 'Canzone': 'Pioggia', 'NumeroTraccia': 6, 'YoutubeLink': '/watch?v=jVRynUqxngA&pp=ygUUUGlvZ2dpYSBJbCBUcmVseXJpY3M%3D'}\n",
      "\n",
      "{'Id': '5GJ3hBBXpSNokTSFFjSKic', 'Artista': 'Il Tre', 'Canzone': 'Grattacieli', 'NumeroTraccia': 7, 'YoutubeLink': '/watch?v=B_kuA0PuX4g&pp=ygUYR3JhdHRhY2llbGkgSWwgVHJlbHlyaWNz'}\n",
      "\n",
      "{'Id': '3V0Af1XziSVycUZt8DqH8I', 'Artista': 'Il Tre', 'Canzone': 'Beethoven (feat. Mostro)', 'NumeroTraccia': 8, 'YoutubeLink': '/watch?v=g4rF_ojemE0&pp=ygUlQmVldGhvdmVuIChmZWF0LiBNb3N0cm8pIElsIFRyZWx5cmljcw%3D%3D'}\n",
      "\n",
      "{'Id': '48F27COJTwqrsajdowgc3Z', 'Artista': 'Il Tre', 'Canzone': 'Farfalla', 'NumeroTraccia': 9, 'YoutubeLink': '/watch?v=QGUWy-inCkQ&pp=ygUVRmFyZmFsbGEgSWwgVHJlbHlyaWNz'}\n",
      "\n",
      "{'Id': '6sDkfLyxzdThzzv0D6NOhW', 'Artista': 'Il Tre', 'Canzone': 'FIGHT! (feat. Nayt)', 'NumeroTraccia': 10, 'YoutubeLink': '/watch?v=yPfbSFjqp2A&pp=ygUgRklHSFQhIChmZWF0LiBOYXl0KSBJbCBUcmVseXJpY3M%3D'}\n",
      "\n",
      "{'Id': '1XMziXLkQx58wsMo9iofLj', 'Artista': 'Il Tre', 'Canzone': 'Sogni e incubi (feat. Clementino)', 'NumeroTraccia': 11, 'YoutubeLink': '/watch?v=1ynLlNTyk7g&pp=ygUuU29nbmkgZSBpbmN1YmkgKGZlYXQuIENsZW1lbnRpbm8pIElsIFRyZWx5cmljcw%3D%3D'}\n",
      "\n",
      "{'Id': '5FRfVS42vE3qGmHrtek6PL', 'Artista': 'Il Tre', 'Canzone': 'Cracovia, Pt. 3', 'NumeroTraccia': 12, 'YoutubeLink': '/watch?v=rDQ8JGJn7Tw&pp=ygUcQ3JhY292aWEsIFB0LiAzIElsIFRyZWx5cmljcw%3D%3D'}\n",
      "\n",
      "{'Id': '2v2mbvUnSzqVs3tnekJmlz', 'Artista': 'Il Tre', 'Canzone': 'America (feat. Emis Killa)', 'NumeroTraccia': 13, 'YoutubeLink': '/watch?v=r6X5ivv_rDU&pp=ygUnQW1lcmljYSAoZmVhdC4gRW1pcyBLaWxsYSkgSWwgVHJlbHlyaWNz'}\n",
      "\n",
      "{'Id': '4iR47CQvzqiJvfPqbfwfpU', 'Artista': 'Il Tre', 'Canzone': 'Oltre', 'NumeroTraccia': 14, 'YoutubeLink': '/watch?v=6iKFHME3Dtg&pp=ygUST2x0cmUgSWwgVHJlbHlyaWNz'}\n",
      "\n",
      "{'Id': '6FBIhyDCdtyoisoMkCbIS0', 'Artista': 'Il Tre', 'Canzone': 'Te lo prometto', 'NumeroTraccia': 15, 'YoutubeLink': '/watch?v=4p35HActjLk&pp=ygUbVGUgbG8gcHJvbWV0dG8gSWwgVHJlbHlyaWNz'}\n",
      "\n",
      "{'Id': '4iMTIDEY5n0gIz2fMqOqXx', 'Artista': 'Il Tre', 'Canzone': 'Il tuo nome - Acoustic Version', 'NumeroTraccia': 16, 'YoutubeLink': '/watch?v=lXIvy9LBVQA&pp=ygUrSWwgdHVvIG5vbWUgLSBBY291c3RpYyBWZXJzaW9uIElsIFRyZWx5cmljcw%3D%3D'}\n",
      "\n"
     ]
    }
   ],
   "source": [
    "for x in tracks:\n",
    "    print(str(x) + \"\\n\")"
   ]
  }
 ],
 "metadata": {
  "kernelspec": {
   "display_name": "Python 3",
   "language": "python",
   "name": "python3"
  },
  "language_info": {
   "codemirror_mode": {
    "name": "ipython",
    "version": 3
   },
   "file_extension": ".py",
   "mimetype": "text/x-python",
   "name": "python",
   "nbconvert_exporter": "python",
   "pygments_lexer": "ipython3",
   "version": "3.13.1"
  }
 },
 "nbformat": 4,
 "nbformat_minor": 2
}
